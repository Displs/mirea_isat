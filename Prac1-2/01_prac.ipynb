{
 "cells": [
  {
   "cell_type": "code",
   "execution_count": 1,
   "metadata": {},
   "outputs": [],
   "source": [
    "import pandas as pd\n",
    "import numpy as np"
   ]
  },
  {
   "cell_type": "code",
   "execution_count": 2,
   "metadata": {},
   "outputs": [],
   "source": [
    "from efficient_apriori import apriori as ef_apriori\n",
    "from fpgrowth_py import fpgrowth\n",
    "from apriori_python import apriori"
   ]
  },
  {
   "cell_type": "markdown",
   "metadata": {},
   "source": [
    "## Сгенерированный набор"
   ]
  },
  {
   "cell_type": "code",
   "execution_count": 3,
   "metadata": {},
   "outputs": [],
   "source": [
    "data_test = pd.read_csv('./Prac_1_2.csv', sep=';')"
   ]
  },
  {
   "cell_type": "code",
   "execution_count": 4,
   "metadata": {},
   "outputs": [
    {
     "data": {
      "text/html": [
       "<div>\n",
       "<style scoped>\n",
       "    .dataframe tbody tr th:only-of-type {\n",
       "        vertical-align: middle;\n",
       "    }\n",
       "\n",
       "    .dataframe tbody tr th {\n",
       "        vertical-align: top;\n",
       "    }\n",
       "\n",
       "    .dataframe thead th {\n",
       "        text-align: right;\n",
       "    }\n",
       "</style>\n",
       "<table border=\"1\" class=\"dataframe\">\n",
       "  <thead>\n",
       "    <tr style=\"text-align: right;\">\n",
       "      <th></th>\n",
       "      <th>Транзакция</th>\n",
       "      <th>Товар</th>\n",
       "    </tr>\n",
       "  </thead>\n",
       "  <tbody>\n",
       "    <tr>\n",
       "      <th>0</th>\n",
       "      <td>1</td>\n",
       "      <td>Конфеты</td>\n",
       "    </tr>\n",
       "    <tr>\n",
       "      <th>1</th>\n",
       "      <td>1</td>\n",
       "      <td>Чизкейк</td>\n",
       "    </tr>\n",
       "    <tr>\n",
       "      <th>2</th>\n",
       "      <td>1</td>\n",
       "      <td>Шоколад</td>\n",
       "    </tr>\n",
       "    <tr>\n",
       "      <th>3</th>\n",
       "      <td>1</td>\n",
       "      <td>Эклер</td>\n",
       "    </tr>\n",
       "    <tr>\n",
       "      <th>4</th>\n",
       "      <td>1</td>\n",
       "      <td>Пирог</td>\n",
       "    </tr>\n",
       "    <tr>\n",
       "      <th>...</th>\n",
       "      <td>...</td>\n",
       "      <td>...</td>\n",
       "    </tr>\n",
       "    <tr>\n",
       "      <th>77</th>\n",
       "      <td>19</td>\n",
       "      <td>Печенье</td>\n",
       "    </tr>\n",
       "    <tr>\n",
       "      <th>78</th>\n",
       "      <td>20</td>\n",
       "      <td>Эклер</td>\n",
       "    </tr>\n",
       "    <tr>\n",
       "      <th>79</th>\n",
       "      <td>20</td>\n",
       "      <td>Пряники</td>\n",
       "    </tr>\n",
       "    <tr>\n",
       "      <th>80</th>\n",
       "      <td>20</td>\n",
       "      <td>Круассан</td>\n",
       "    </tr>\n",
       "    <tr>\n",
       "      <th>81</th>\n",
       "      <td>20</td>\n",
       "      <td>Чизкейк</td>\n",
       "    </tr>\n",
       "  </tbody>\n",
       "</table>\n",
       "<p>82 rows × 2 columns</p>\n",
       "</div>"
      ],
      "text/plain": [
       "    Транзакция     Товар\n",
       "0            1   Конфеты\n",
       "1            1   Чизкейк\n",
       "2            1   Шоколад\n",
       "3            1     Эклер\n",
       "4            1     Пирог\n",
       "..         ...       ...\n",
       "77          19   Печенье\n",
       "78          20     Эклер\n",
       "79          20   Пряники\n",
       "80          20  Круассан\n",
       "81          20   Чизкейк\n",
       "\n",
       "[82 rows x 2 columns]"
      ]
     },
     "execution_count": 4,
     "metadata": {},
     "output_type": "execute_result"
    }
   ],
   "source": [
    "data_test"
   ]
  },
  {
   "cell_type": "code",
   "execution_count": 5,
   "metadata": {},
   "outputs": [],
   "source": [
    "transactions_gen = data_test.groupby('Транзакция')['Товар'].apply(list).to_list()"
   ]
  },
  {
   "cell_type": "code",
   "execution_count": 6,
   "metadata": {},
   "outputs": [
    {
     "data": {
      "text/plain": [
       "[['Конфеты', 'Чизкейк', 'Шоколад', 'Эклер', 'Пирог', 'Круассан'],\n",
       " ['Печенье', 'Пряники', 'Эклер', 'Шоколад', 'Чизкейк'],\n",
       " ['Печенье', 'Пряники', 'Шоколад', 'Вафли', 'Эклер'],\n",
       " ['Шоколад', 'Эклер', 'Чизкейк', 'Конфеты'],\n",
       " ['Вафли', 'Печенье', 'Пряники'],\n",
       " ['Пряники', 'Шоколад', 'Эклер', 'Чизкейк'],\n",
       " ['Шоколад', 'Эклер', 'Круассан'],\n",
       " ['Чизкейк', 'Конфеты', 'Пирог', 'Эклер', 'Шоколад'],\n",
       " ['Круассан', 'Шоколад', 'Эклер', 'Чизкейк'],\n",
       " ['Пирог', 'Эклер', 'Чизкейк', 'Шоколад'],\n",
       " ['Конфеты', 'Пирог'],\n",
       " ['Конфеты', 'Пряники', 'Круассан'],\n",
       " ['Пряники', 'Чизкейк', 'Шоколад', 'Эклер'],\n",
       " ['Шоколад', 'Эклер', 'Конфеты', 'Чизкейк', 'Круассан'],\n",
       " ['Шоколад', 'Эклер', 'Конфеты'],\n",
       " ['Шоколад', 'Печенье', 'Пряники', 'Эклер'],\n",
       " ['Пирог', 'Круассан'],\n",
       " ['Шоколад', 'Конфеты', 'Чизкейк', 'Эклер'],\n",
       " ['Эклер',\n",
       "  'Шоколад',\n",
       "  'Чизкейк',\n",
       "  'Пирог',\n",
       "  'Вафли',\n",
       "  'Пряники',\n",
       "  'Конфеты',\n",
       "  'Печенье'],\n",
       " ['Эклер', 'Пряники', 'Круассан', 'Чизкейк']]"
      ]
     },
     "execution_count": 6,
     "metadata": {},
     "output_type": "execute_result"
    }
   ],
   "source": [
    "for i, elem_i in enumerate(transactions_gen):\n",
    "    for j, elem_j in enumerate(elem_i):\n",
    "        if type(elem_j) != str:\n",
    "            transactions_gen[i].pop(j)\n",
    "\n",
    "transactions_gen"
   ]
  },
  {
   "cell_type": "markdown",
   "metadata": {},
   "source": [
    "#### Apriori - gen"
   ]
  },
  {
   "cell_type": "code",
   "execution_count": 7,
   "metadata": {},
   "outputs": [
    {
     "name": "stdout",
     "output_type": "stream",
     "text": [
      "CPU times: total: 0 ns\n",
      "Wall time: 1.03 ms\n"
     ]
    }
   ],
   "source": [
    "%%time\n",
    "freqItemSet, rules = apriori(transactions_gen, minSup=0.5, minConf=0.6)"
   ]
  },
  {
   "cell_type": "code",
   "execution_count": 8,
   "metadata": {},
   "outputs": [
    {
     "name": "stdout",
     "output_type": "stream",
     "text": [
      "[{'Эклер'}, {'Чизкейк', 'Шоколад'}, 0.6875]\n",
      "[{'Шоколад'}, {'Чизкейк'}, 0.7333333333333333]\n",
      "[{'Шоколад'}, {'Чизкейк', 'Эклер'}, 0.7333333333333333]\n",
      "[{'Эклер', 'Шоколад'}, {'Чизкейк'}, 0.7333333333333333]\n",
      "[{'Эклер'}, {'Чизкейк'}, 0.75]\n",
      "[{'Чизкейк'}, {'Шоколад'}, 0.9166666666666666]\n",
      "[{'Чизкейк'}, {'Эклер', 'Шоколад'}, 0.9166666666666666]\n",
      "[{'Чизкейк', 'Эклер'}, {'Шоколад'}, 0.9166666666666666]\n",
      "[{'Эклер'}, {'Шоколад'}, 0.9375]\n",
      "[{'Чизкейк'}, {'Эклер'}, 1.0]\n",
      "[{'Шоколад'}, {'Эклер'}, 1.0]\n",
      "[{'Чизкейк', 'Шоколад'}, {'Эклер'}, 1.0]\n"
     ]
    }
   ],
   "source": [
    "for i in rules:\n",
    "    print(i)"
   ]
  },
  {
   "cell_type": "markdown",
   "metadata": {},
   "source": [
    "#### Efficient apriori - github dataset"
   ]
  },
  {
   "cell_type": "code",
   "execution_count": 9,
   "metadata": {},
   "outputs": [
    {
     "name": "stdout",
     "output_type": "stream",
     "text": [
      "CPU times: total: 0 ns\n",
      "Wall time: 0 ns\n"
     ]
    }
   ],
   "source": [
    "%%time\n",
    "itemsets, rules = ef_apriori(transactions_gen, min_support=0.5, min_confidence=0.6)"
   ]
  },
  {
   "cell_type": "code",
   "execution_count": 10,
   "metadata": {},
   "outputs": [
    {
     "name": "stdout",
     "output_type": "stream",
     "text": [
      "{Шоколад} -> {Чизкейк} (conf: 0.733, supp: 0.550, lift: 1.222, conv: 1.500)\n",
      "{Чизкейк} -> {Шоколад} (conf: 0.917, supp: 0.550, lift: 1.222, conv: 3.000)\n",
      "{Эклер} -> {Чизкейк} (conf: 0.750, supp: 0.600, lift: 1.250, conv: 1.600)\n",
      "{Чизкейк} -> {Эклер} (conf: 1.000, supp: 0.600, lift: 1.250, conv: 200000000.000)\n",
      "{Эклер} -> {Шоколад} (conf: 0.938, supp: 0.750, lift: 1.250, conv: 4.000)\n",
      "{Шоколад} -> {Эклер} (conf: 1.000, supp: 0.750, lift: 1.250, conv: 200000000.000)\n",
      "{Шоколад, Эклер} -> {Чизкейк} (conf: 0.733, supp: 0.550, lift: 1.222, conv: 1.500)\n",
      "{Чизкейк, Эклер} -> {Шоколад} (conf: 0.917, supp: 0.550, lift: 1.222, conv: 3.000)\n",
      "{Чизкейк, Шоколад} -> {Эклер} (conf: 1.000, supp: 0.550, lift: 1.250, conv: 200000000.000)\n",
      "{Эклер} -> {Чизкейк, Шоколад} (conf: 0.688, supp: 0.550, lift: 1.250, conv: 1.440)\n",
      "{Шоколад} -> {Чизкейк, Эклер} (conf: 0.733, supp: 0.550, lift: 1.222, conv: 1.500)\n",
      "{Чизкейк} -> {Шоколад, Эклер} (conf: 0.917, supp: 0.550, lift: 1.222, conv: 3.000)\n"
     ]
    }
   ],
   "source": [
    "for i in rules:\n",
    "    print(i)"
   ]
  },
  {
   "cell_type": "markdown",
   "metadata": {},
   "source": [
    "#### fpgrowth - gen"
   ]
  },
  {
   "cell_type": "code",
   "execution_count": 11,
   "metadata": {},
   "outputs": [
    {
     "name": "stdout",
     "output_type": "stream",
     "text": [
      "CPU times: total: 0 ns\n",
      "Wall time: 973 μs\n"
     ]
    }
   ],
   "source": [
    "%%time\n",
    "freqItemSet, rules = fpgrowth(transactions_gen, minSupRatio=0.5, minConf=0.6)"
   ]
  },
  {
   "cell_type": "code",
   "execution_count": 12,
   "metadata": {},
   "outputs": [
    {
     "name": "stdout",
     "output_type": "stream",
     "text": [
      "[{'Чизкейк'}, {'Шоколад'}, 0.9166666666666666]\n",
      "[{'Шоколад'}, {'Чизкейк'}, 0.7333333333333333]\n",
      "[{'Чизкейк'}, {'Эклер', 'Шоколад'}, 0.9166666666666666]\n",
      "[{'Эклер'}, {'Чизкейк', 'Шоколад'}, 0.6875]\n",
      "[{'Шоколад'}, {'Чизкейк', 'Эклер'}, 0.7333333333333333]\n",
      "[{'Чизкейк', 'Эклер'}, {'Шоколад'}, 0.9166666666666666]\n",
      "[{'Чизкейк', 'Шоколад'}, {'Эклер'}, 1.0]\n",
      "[{'Эклер', 'Шоколад'}, {'Чизкейк'}, 0.7333333333333333]\n",
      "[{'Чизкейк'}, {'Эклер'}, 1.0]\n",
      "[{'Эклер'}, {'Чизкейк'}, 0.75]\n",
      "[{'Эклер'}, {'Шоколад'}, 0.9375]\n",
      "[{'Шоколад'}, {'Эклер'}, 1.0]\n"
     ]
    }
   ],
   "source": [
    "for i in rules:\n",
    "    print(i)"
   ]
  },
  {
   "cell_type": "markdown",
   "metadata": {},
   "source": [
    "## Набор данных из репозитория"
   ]
  },
  {
   "cell_type": "code",
   "execution_count": 13,
   "metadata": {},
   "outputs": [
    {
     "data": {
      "text/html": [
       "<div>\n",
       "<style scoped>\n",
       "    .dataframe tbody tr th:only-of-type {\n",
       "        vertical-align: middle;\n",
       "    }\n",
       "\n",
       "    .dataframe tbody tr th {\n",
       "        vertical-align: top;\n",
       "    }\n",
       "\n",
       "    .dataframe thead th {\n",
       "        text-align: right;\n",
       "    }\n",
       "</style>\n",
       "<table border=\"1\" class=\"dataframe\">\n",
       "  <thead>\n",
       "    <tr style=\"text-align: right;\">\n",
       "      <th></th>\n",
       "      <th>Date</th>\n",
       "      <th>Time</th>\n",
       "      <th>Transaction</th>\n",
       "      <th>Item</th>\n",
       "    </tr>\n",
       "  </thead>\n",
       "  <tbody>\n",
       "    <tr>\n",
       "      <th>0</th>\n",
       "      <td>2016-10-30</td>\n",
       "      <td>09:58:11</td>\n",
       "      <td>1</td>\n",
       "      <td>Bread</td>\n",
       "    </tr>\n",
       "    <tr>\n",
       "      <th>1</th>\n",
       "      <td>2016-10-30</td>\n",
       "      <td>10:05:34</td>\n",
       "      <td>2</td>\n",
       "      <td>Scandinavian</td>\n",
       "    </tr>\n",
       "    <tr>\n",
       "      <th>2</th>\n",
       "      <td>2016-10-30</td>\n",
       "      <td>10:05:34</td>\n",
       "      <td>2</td>\n",
       "      <td>Scandinavian</td>\n",
       "    </tr>\n",
       "    <tr>\n",
       "      <th>3</th>\n",
       "      <td>2016-10-30</td>\n",
       "      <td>10:07:57</td>\n",
       "      <td>3</td>\n",
       "      <td>Hot chocolate</td>\n",
       "    </tr>\n",
       "    <tr>\n",
       "      <th>4</th>\n",
       "      <td>2016-10-30</td>\n",
       "      <td>10:07:57</td>\n",
       "      <td>3</td>\n",
       "      <td>Jam</td>\n",
       "    </tr>\n",
       "  </tbody>\n",
       "</table>\n",
       "</div>"
      ],
      "text/plain": [
       "         Date      Time  Transaction           Item\n",
       "0  2016-10-30  09:58:11            1          Bread\n",
       "1  2016-10-30  10:05:34            2   Scandinavian\n",
       "2  2016-10-30  10:05:34            2   Scandinavian\n",
       "3  2016-10-30  10:07:57            3  Hot chocolate\n",
       "4  2016-10-30  10:07:57            3            Jam"
      ]
     },
     "execution_count": 13,
     "metadata": {},
     "output_type": "execute_result"
    }
   ],
   "source": [
    "data = pd.read_csv('BreadBasket_DMS.csv')\n",
    "data.head()"
   ]
  },
  {
   "cell_type": "code",
   "execution_count": 14,
   "metadata": {},
   "outputs": [
    {
     "data": {
      "text/plain": [
       "Date           0\n",
       "Time           0\n",
       "Transaction    0\n",
       "Item           0\n",
       "dtype: int64"
      ]
     },
     "execution_count": 14,
     "metadata": {},
     "output_type": "execute_result"
    }
   ],
   "source": [
    "data.isna().sum()"
   ]
  },
  {
   "cell_type": "code",
   "execution_count": 15,
   "metadata": {},
   "outputs": [
    {
     "data": {
      "text/plain": [
       "Item\n",
       "Coffee            5471\n",
       "Bread             3325\n",
       "Tea               1435\n",
       "Cake              1025\n",
       "Pastry             856\n",
       "                  ... \n",
       "Chicken sand         1\n",
       "The BART             1\n",
       "Adjustment           1\n",
       "Olum & polenta       1\n",
       "Bacon                1\n",
       "Name: count, Length: 95, dtype: int64"
      ]
     },
     "execution_count": 15,
     "metadata": {},
     "output_type": "execute_result"
    }
   ],
   "source": [
    "data['Item'].value_counts()"
   ]
  },
  {
   "cell_type": "code",
   "execution_count": 16,
   "metadata": {},
   "outputs": [],
   "source": [
    "data_trans = data[['Transaction', 'Item']]\n",
    "data_trans = data_trans[data_trans['Item'] != 'NONE']"
   ]
  },
  {
   "cell_type": "code",
   "execution_count": 17,
   "metadata": {},
   "outputs": [],
   "source": [
    "data_grouped = data_trans.groupby('Transaction')"
   ]
  },
  {
   "cell_type": "code",
   "execution_count": 18,
   "metadata": {},
   "outputs": [
    {
     "data": {
      "text/plain": [
       "Transaction\n",
       "1       1\n",
       "2       2\n",
       "3       3\n",
       "4       1\n",
       "5       3\n",
       "       ..\n",
       "9680    1\n",
       "9681    4\n",
       "9682    4\n",
       "9683    2\n",
       "9684    1\n",
       "Name: Item, Length: 9465, dtype: int64"
      ]
     },
     "execution_count": 18,
     "metadata": {},
     "output_type": "execute_result"
    }
   ],
   "source": [
    "data_grouped['Item'].count()"
   ]
  },
  {
   "cell_type": "code",
   "execution_count": 19,
   "metadata": {},
   "outputs": [],
   "source": [
    "data_filtered = data_grouped.filter(lambda x: x['Item'].count() >= 2)"
   ]
  },
  {
   "cell_type": "code",
   "execution_count": 20,
   "metadata": {},
   "outputs": [],
   "source": [
    "transactions_df = data_filtered.groupby(by='Transaction')['Item'].apply(list)"
   ]
  },
  {
   "cell_type": "code",
   "execution_count": 21,
   "metadata": {},
   "outputs": [
    {
     "data": {
      "text/plain": [
       "Transaction\n",
       "2                            [Scandinavian, Scandinavian]\n",
       "3                           [Hot chocolate, Jam, Cookies]\n",
       "5                                 [Coffee, Pastry, Bread]\n",
       "6                             [Medialuna, Pastry, Muffin]\n",
       "7                        [Medialuna, Pastry, Coffee, Tea]\n",
       "                              ...                        \n",
       "9678                        [Coffee, Tacos/Fajita, Toast]\n",
       "9679                              [Bread, Spanish Brunch]\n",
       "9681    [Truffles, Tea, Spanish Brunch, Christmas common]\n",
       "9682                  [Muffin, Tacos/Fajita, Coffee, Tea]\n",
       "9683                                     [Coffee, Pastry]\n",
       "Name: Item, Length: 5834, dtype: object"
      ]
     },
     "execution_count": 21,
     "metadata": {},
     "output_type": "execute_result"
    }
   ],
   "source": [
    "transactions_df"
   ]
  },
  {
   "cell_type": "code",
   "execution_count": 22,
   "metadata": {},
   "outputs": [],
   "source": [
    "transactions = transactions_df.tolist()"
   ]
  },
  {
   "cell_type": "code",
   "execution_count": 23,
   "metadata": {},
   "outputs": [],
   "source": [
    "import time"
   ]
  },
  {
   "cell_type": "markdown",
   "metadata": {},
   "source": [
    "#### Apriori - github dataset"
   ]
  },
  {
   "cell_type": "code",
   "execution_count": 24,
   "metadata": {},
   "outputs": [
    {
     "name": "stdout",
     "output_type": "stream",
     "text": [
      "CPU times: total: 172 ms\n",
      "Wall time: 178 ms\n"
     ]
    }
   ],
   "source": [
    "%%time\n",
    "\n",
    "tic = time.time()\n",
    "\n",
    "freqItemSet, rules = apriori(transactions, minSup=0.06, minConf=0.06)\n",
    "\n",
    "toc = time.time()\n",
    "\n",
    "time_taken_1 = toc - tic "
   ]
  },
  {
   "cell_type": "code",
   "execution_count": 25,
   "metadata": {},
   "outputs": [
    {
     "name": "stdout",
     "output_type": "stream",
     "text": [
      "[{'Coffee'}, {'Sandwich'}, 0.1028409090909091]\n",
      "[{'Coffee'}, {'Pastry'}, 0.1278409090909091]\n",
      "[{'Coffee'}, {'Tea'}, 0.1340909090909091]\n",
      "[{'Coffee'}, {'Cake'}, 0.1471590909090909]\n",
      "[{'Coffee'}, {'Bread'}, 0.24204545454545454]\n",
      "[{'Tea'}, {'Coffee'}, 0.40619621342512907]\n",
      "[{'Bread'}, {'Coffee'}, 0.43139240506329113]\n",
      "[{'Cake'}, {'Coffee'}, 0.5833333333333334]\n",
      "[{'Sandwich'}, {'Coffee'}, 0.5848142164781907]\n",
      "[{'Pastry'}, {'Coffee'}, 0.5960264900662252]\n"
     ]
    }
   ],
   "source": [
    "for i in rules:\n",
    "    print(i)"
   ]
  },
  {
   "cell_type": "markdown",
   "metadata": {},
   "source": [
    "#### Efficient apriori - github dataset"
   ]
  },
  {
   "cell_type": "code",
   "execution_count": 26,
   "metadata": {},
   "outputs": [
    {
     "name": "stdout",
     "output_type": "stream",
     "text": [
      "CPU times: total: 15.6 ms\n",
      "Wall time: 9.97 ms\n"
     ]
    }
   ],
   "source": [
    "%%time\n",
    "\n",
    "tic = time.time()\n",
    "\n",
    "itemsets, rules = ef_apriori(transactions, min_support=0.06, min_confidence=0.06)\n",
    "\n",
    "toc = time.time()\n",
    "\n",
    "time_taken_2 = toc - tic "
   ]
  },
  {
   "cell_type": "code",
   "execution_count": 27,
   "metadata": {},
   "outputs": [
    {
     "name": "stdout",
     "output_type": "stream",
     "text": [
      "{Coffee} -> {Bread} (conf: 0.242, supp: 0.146, lift: 0.715, conv: 0.873)\n",
      "{Bread} -> {Coffee} (conf: 0.431, supp: 0.146, lift: 0.715, conv: 0.698)\n",
      "{Coffee} -> {Cake} (conf: 0.147, supp: 0.089, lift: 0.967, conv: 0.994)\n",
      "{Cake} -> {Coffee} (conf: 0.583, supp: 0.089, lift: 0.967, conv: 0.952)\n",
      "{Pastry} -> {Coffee} (conf: 0.596, supp: 0.077, lift: 0.988, conv: 0.982)\n",
      "{Coffee} -> {Pastry} (conf: 0.128, supp: 0.077, lift: 0.988, conv: 0.998)\n",
      "{Sandwich} -> {Coffee} (conf: 0.585, supp: 0.062, lift: 0.969, conv: 0.955)\n",
      "{Coffee} -> {Sandwich} (conf: 0.103, supp: 0.062, lift: 0.969, conv: 0.996)\n",
      "{Tea} -> {Coffee} (conf: 0.406, supp: 0.081, lift: 0.673, conv: 0.668)\n",
      "{Coffee} -> {Tea} (conf: 0.134, supp: 0.081, lift: 0.673, conv: 0.925)\n"
     ]
    }
   ],
   "source": [
    "for i in rules:\n",
    "    print(i)"
   ]
  },
  {
   "cell_type": "markdown",
   "metadata": {},
   "source": [
    "#### fpgrowth - github dataset"
   ]
  },
  {
   "cell_type": "code",
   "execution_count": 28,
   "metadata": {},
   "outputs": [
    {
     "name": "stdout",
     "output_type": "stream",
     "text": [
      "CPU times: total: 78.1 ms\n",
      "Wall time: 80.8 ms\n"
     ]
    }
   ],
   "source": [
    "%%time\n",
    "\n",
    "tic = time.time()\n",
    "\n",
    "freqItemSet, rules = fpgrowth(transactions, minSupRatio=0.06, minConf=0.06)\n",
    "\n",
    "toc = time.time()\n",
    "\n",
    "time_taken_3 = toc - tic "
   ]
  },
  {
   "cell_type": "code",
   "execution_count": 29,
   "metadata": {},
   "outputs": [
    {
     "name": "stdout",
     "output_type": "stream",
     "text": [
      "[{'Coffee'}, {'Cookies'}, 0.07585227272727273]\n",
      "[{'Cookies'}, {'Coffee'}, 0.5668789808917197]\n",
      "[{'Coffee'}, {'Medialuna'}, 0.09460227272727273]\n",
      "[{'Medialuna'}, {'Coffee'}, 0.6235955056179775]\n",
      "[{'Coffee'}, {'Sandwich'}, 0.1028409090909091]\n",
      "[{'Sandwich'}, {'Coffee'}, 0.5848142164781907]\n",
      "[{'Pastry'}, {'Coffee'}, 0.5960264900662252]\n",
      "[{'Coffee'}, {'Pastry'}, 0.1278409090909091]\n",
      "[{'Coffee'}, {'Cake'}, 0.1471590909090909]\n",
      "[{'Cake'}, {'Coffee'}, 0.5833333333333334]\n",
      "[{'Coffee'}, {'Tea'}, 0.1340909090909091]\n",
      "[{'Tea'}, {'Coffee'}, 0.40619621342512907]\n",
      "[{'Coffee'}, {'Bread'}, 0.24204545454545454]\n",
      "[{'Bread'}, {'Coffee'}, 0.43139240506329113]\n"
     ]
    }
   ],
   "source": [
    "for i in rules:\n",
    "    print(i)"
   ]
  },
  {
   "cell_type": "code",
   "execution_count": 30,
   "metadata": {},
   "outputs": [],
   "source": [
    "import seaborn as sns\n",
    "import matplotlib.pyplot as plt"
   ]
  },
  {
   "cell_type": "code",
   "execution_count": 31,
   "metadata": {},
   "outputs": [],
   "source": [
    "performance_dict = {\"Apriori\":time_taken_1, \"Efficient apriori\":time_taken_2, \"FP growth\":time_taken_3}"
   ]
  },
  {
   "cell_type": "code",
   "execution_count": 32,
   "metadata": {},
   "outputs": [
    {
     "data": {
      "image/png": "[encoded data removed]",
      "text/plain": [
       "<Figure size 640x480 with 1 Axes>"
      ]
     },
     "metadata": {},
     "output_type": "display_data"
    }
   ],
   "source": [
    "sns.barplot(performance_dict)\n",
    "\n",
    "plt.xlabel(\"Тип алгоритма\")\n",
    "plt.ylabel(\"Время в секундах\")\n",
    "plt.show()"
   ]
  },
  {
   "cell_type": "code",
   "execution_count": null,
   "metadata": {},
   "outputs": [],
   "source": []
  }
 ],
 "metadata": {
  "kernelspec": {
   "display_name": "mirea_prac_env",
   "language": "python",
   "name": "python3"
  },
  "language_info": {
   "codemirror_mode": {
    "name": "ipython",
    "version": 3
   },
   "file_extension": ".py",
   "mimetype": "text/x-python",
   "name": "python",
   "nbconvert_exporter": "python",
   "pygments_lexer": "ipython3",
   "version": "3.12.5"
  }
 },
 "nbformat": 4,
 "nbformat_minor": 2
}
